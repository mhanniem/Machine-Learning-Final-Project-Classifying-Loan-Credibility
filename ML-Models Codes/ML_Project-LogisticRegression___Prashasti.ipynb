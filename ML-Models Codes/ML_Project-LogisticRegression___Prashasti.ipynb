{
 "cells": [
  {
   "cell_type": "code",
   "execution_count": 1,
   "id": "b7e0b671",
   "metadata": {
    "id": "b7e0b671"
   },
   "outputs": [],
   "source": [
    "import pandas as pd\n",
    "import numpy as np\n",
    "import matplotlib.pyplot as plt \n",
    "%matplotlib inline\n",
    "import seaborn as sns\n",
    "from sklearn.model_selection import StratifiedKFold\n",
    "from sklearn.linear_model import LogisticRegression\n",
    "from sklearn.metrics import accuracy_score\n",
    "import warnings\n",
    "warnings.filterwarnings('ignore')"
   ]
  },
  {
   "cell_type": "code",
   "execution_count": 2,
   "id": "25b0e04d",
   "metadata": {
    "id": "25b0e04d",
    "outputId": "3559ea6b-5093-4b86-f272-8a0999a0846e"
   },
   "outputs": [
    {
     "data": {
      "text/html": [
       "<div>\n",
       "<style scoped>\n",
       "    .dataframe tbody tr th:only-of-type {\n",
       "        vertical-align: middle;\n",
       "    }\n",
       "\n",
       "    .dataframe tbody tr th {\n",
       "        vertical-align: top;\n",
       "    }\n",
       "\n",
       "    .dataframe thead th {\n",
       "        text-align: right;\n",
       "    }\n",
       "</style>\n",
       "<table border=\"1\" class=\"dataframe\">\n",
       "  <thead>\n",
       "    <tr style=\"text-align: right;\">\n",
       "      <th></th>\n",
       "      <th>Loan_ID</th>\n",
       "      <th>Gender</th>\n",
       "      <th>Married</th>\n",
       "      <th>Dependents</th>\n",
       "      <th>Education</th>\n",
       "      <th>Self_Employed</th>\n",
       "      <th>ApplicantIncome</th>\n",
       "      <th>CoapplicantIncome</th>\n",
       "      <th>LoanAmount</th>\n",
       "      <th>Loan_Amount_Term</th>\n",
       "      <th>Credit_History</th>\n",
       "      <th>Property_Area</th>\n",
       "      <th>Loan_Status</th>\n",
       "    </tr>\n",
       "  </thead>\n",
       "  <tbody>\n",
       "    <tr>\n",
       "      <th>0</th>\n",
       "      <td>LP001002</td>\n",
       "      <td>Male</td>\n",
       "      <td>No</td>\n",
       "      <td>0</td>\n",
       "      <td>Graduate</td>\n",
       "      <td>No</td>\n",
       "      <td>5849</td>\n",
       "      <td>0.0</td>\n",
       "      <td>NaN</td>\n",
       "      <td>360.0</td>\n",
       "      <td>1.0</td>\n",
       "      <td>Urban</td>\n",
       "      <td>Y</td>\n",
       "    </tr>\n",
       "    <tr>\n",
       "      <th>1</th>\n",
       "      <td>LP001003</td>\n",
       "      <td>Male</td>\n",
       "      <td>Yes</td>\n",
       "      <td>1</td>\n",
       "      <td>Graduate</td>\n",
       "      <td>No</td>\n",
       "      <td>4583</td>\n",
       "      <td>1508.0</td>\n",
       "      <td>128.0</td>\n",
       "      <td>360.0</td>\n",
       "      <td>1.0</td>\n",
       "      <td>Rural</td>\n",
       "      <td>N</td>\n",
       "    </tr>\n",
       "    <tr>\n",
       "      <th>2</th>\n",
       "      <td>LP001005</td>\n",
       "      <td>Male</td>\n",
       "      <td>Yes</td>\n",
       "      <td>0</td>\n",
       "      <td>Graduate</td>\n",
       "      <td>Yes</td>\n",
       "      <td>3000</td>\n",
       "      <td>0.0</td>\n",
       "      <td>66.0</td>\n",
       "      <td>360.0</td>\n",
       "      <td>1.0</td>\n",
       "      <td>Urban</td>\n",
       "      <td>Y</td>\n",
       "    </tr>\n",
       "    <tr>\n",
       "      <th>3</th>\n",
       "      <td>LP001006</td>\n",
       "      <td>Male</td>\n",
       "      <td>Yes</td>\n",
       "      <td>0</td>\n",
       "      <td>Not Graduate</td>\n",
       "      <td>No</td>\n",
       "      <td>2583</td>\n",
       "      <td>2358.0</td>\n",
       "      <td>120.0</td>\n",
       "      <td>360.0</td>\n",
       "      <td>1.0</td>\n",
       "      <td>Urban</td>\n",
       "      <td>Y</td>\n",
       "    </tr>\n",
       "    <tr>\n",
       "      <th>4</th>\n",
       "      <td>LP001008</td>\n",
       "      <td>Male</td>\n",
       "      <td>No</td>\n",
       "      <td>0</td>\n",
       "      <td>Graduate</td>\n",
       "      <td>No</td>\n",
       "      <td>6000</td>\n",
       "      <td>0.0</td>\n",
       "      <td>141.0</td>\n",
       "      <td>360.0</td>\n",
       "      <td>1.0</td>\n",
       "      <td>Urban</td>\n",
       "      <td>Y</td>\n",
       "    </tr>\n",
       "  </tbody>\n",
       "</table>\n",
       "</div>"
      ],
      "text/plain": [
       "    Loan_ID Gender Married Dependents     Education Self_Employed  \\\n",
       "0  LP001002   Male      No          0      Graduate            No   \n",
       "1  LP001003   Male     Yes          1      Graduate            No   \n",
       "2  LP001005   Male     Yes          0      Graduate           Yes   \n",
       "3  LP001006   Male     Yes          0  Not Graduate            No   \n",
       "4  LP001008   Male      No          0      Graduate            No   \n",
       "\n",
       "   ApplicantIncome  CoapplicantIncome  LoanAmount  Loan_Amount_Term  \\\n",
       "0             5849                0.0         NaN             360.0   \n",
       "1             4583             1508.0       128.0             360.0   \n",
       "2             3000                0.0        66.0             360.0   \n",
       "3             2583             2358.0       120.0             360.0   \n",
       "4             6000                0.0       141.0             360.0   \n",
       "\n",
       "   Credit_History Property_Area Loan_Status  \n",
       "0             1.0         Urban           Y  \n",
       "1             1.0         Rural           N  \n",
       "2             1.0         Urban           Y  \n",
       "3             1.0         Urban           Y  \n",
       "4             1.0         Urban           Y  "
      ]
     },
     "execution_count": 2,
     "metadata": {},
     "output_type": "execute_result"
    }
   ],
   "source": [
    "loan= pd.read_csv('C:/Users/hp/OneDrive/Desktop/Analytics/MSBA/BANA 273 - Machine Learning Analytics/Project/loan-train.csv')\n",
    "loan.head()"
   ]
  },
  {
   "cell_type": "code",
   "execution_count": 3,
   "id": "e8418f92",
   "metadata": {
    "id": "e8418f92"
   },
   "outputs": [],
   "source": [
    "categorical_columns = ['Gender', 'Married', 'Dependents', 'Education', 'Self_Employed','Loan_Amount_Term','Credit_History','Property_Area']\n",
    "numerical_columns = ['ApplicantIncome', 'CoapplicantIncome', 'LoanAmount']"
   ]
  },
  {
   "cell_type": "code",
   "execution_count": 4,
   "id": "77ed6541",
   "metadata": {
    "id": "77ed6541",
    "outputId": "42eaf6e7-c99a-47e7-ade2-cde02ee4e319"
   },
   "outputs": [
    {
     "data": {
      "text/plain": [
       "Loan_ID               0\n",
       "Gender               13\n",
       "Married               3\n",
       "Dependents           15\n",
       "Education             0\n",
       "Self_Employed        32\n",
       "ApplicantIncome       0\n",
       "CoapplicantIncome     0\n",
       "LoanAmount           22\n",
       "Loan_Amount_Term     14\n",
       "Credit_History       50\n",
       "Property_Area         0\n",
       "Loan_Status           0\n",
       "dtype: int64"
      ]
     },
     "execution_count": 4,
     "metadata": {},
     "output_type": "execute_result"
    }
   ],
   "source": [
    "loan.isnull().sum()"
   ]
  },
  {
   "cell_type": "code",
   "execution_count": 5,
   "id": "558fe36a",
   "metadata": {
    "id": "558fe36a"
   },
   "outputs": [],
   "source": [
    "# in Categorical variables, replace the nulls with mode value\n",
    "for col in categorical_columns:\n",
    "    loan[col].fillna(loan[col].mode()[0],inplace=True)\n",
    "\n",
    "# in Nnumeric variables, replcase nulls with mean values of each variable\n",
    "loan['LoanAmount']=loan['LoanAmount'].fillna(loan['LoanAmount'].mean())"
   ]
  },
  {
   "cell_type": "code",
   "execution_count": 6,
   "id": "5f4d92a0",
   "metadata": {
    "id": "5f4d92a0",
    "outputId": "24c7a58b-b781-49e9-dedb-c23033bc0fee"
   },
   "outputs": [
    {
     "data": {
      "text/plain": [
       "Loan_ID              0\n",
       "Gender               0\n",
       "Married              0\n",
       "Dependents           0\n",
       "Education            0\n",
       "Self_Employed        0\n",
       "ApplicantIncome      0\n",
       "CoapplicantIncome    0\n",
       "LoanAmount           0\n",
       "Loan_Amount_Term     0\n",
       "Credit_History       0\n",
       "Property_Area        0\n",
       "Loan_Status          0\n",
       "dtype: int64"
      ]
     },
     "execution_count": 6,
     "metadata": {},
     "output_type": "execute_result"
    }
   ],
   "source": [
    "loan.isnull().sum()"
   ]
  },
  {
   "cell_type": "code",
   "execution_count": 7,
   "id": "37b209d4",
   "metadata": {
    "id": "37b209d4",
    "outputId": "f84b03a3-5470-4de9-afac-fc0e4885da0f"
   },
   "outputs": [],
   "source": [
    "#drop LoanID\n",
    "loan.drop('Loan_ID', axis = 1, inplace=True)"
   ]
  },
  {
   "cell_type": "code",
   "execution_count": 8,
   "id": "2c6d6901",
   "metadata": {
    "id": "2c6d6901",
    "outputId": "398e3248-5882-4c89-9b96-2f9190ef889c"
   },
   "outputs": [
    {
     "data": {
      "text/html": [
       "<div>\n",
       "<style scoped>\n",
       "    .dataframe tbody tr th:only-of-type {\n",
       "        vertical-align: middle;\n",
       "    }\n",
       "\n",
       "    .dataframe tbody tr th {\n",
       "        vertical-align: top;\n",
       "    }\n",
       "\n",
       "    .dataframe thead th {\n",
       "        text-align: right;\n",
       "    }\n",
       "</style>\n",
       "<table border=\"1\" class=\"dataframe\">\n",
       "  <thead>\n",
       "    <tr style=\"text-align: right;\">\n",
       "      <th></th>\n",
       "      <th>Gender</th>\n",
       "      <th>Married</th>\n",
       "      <th>Dependents</th>\n",
       "      <th>Education</th>\n",
       "      <th>Self_Employed</th>\n",
       "      <th>ApplicantIncome</th>\n",
       "      <th>CoapplicantIncome</th>\n",
       "      <th>LoanAmount</th>\n",
       "      <th>Loan_Amount_Term</th>\n",
       "      <th>Credit_History</th>\n",
       "      <th>Property_Area</th>\n",
       "      <th>Loan_Status</th>\n",
       "    </tr>\n",
       "  </thead>\n",
       "  <tbody>\n",
       "    <tr>\n",
       "      <th>0</th>\n",
       "      <td>1</td>\n",
       "      <td>0</td>\n",
       "      <td>0</td>\n",
       "      <td>0</td>\n",
       "      <td>0</td>\n",
       "      <td>5849</td>\n",
       "      <td>0.0</td>\n",
       "      <td>146.412162</td>\n",
       "      <td>360.0</td>\n",
       "      <td>1.0</td>\n",
       "      <td>2</td>\n",
       "      <td>1</td>\n",
       "    </tr>\n",
       "    <tr>\n",
       "      <th>1</th>\n",
       "      <td>1</td>\n",
       "      <td>1</td>\n",
       "      <td>1</td>\n",
       "      <td>0</td>\n",
       "      <td>0</td>\n",
       "      <td>4583</td>\n",
       "      <td>1508.0</td>\n",
       "      <td>128.000000</td>\n",
       "      <td>360.0</td>\n",
       "      <td>1.0</td>\n",
       "      <td>0</td>\n",
       "      <td>0</td>\n",
       "    </tr>\n",
       "  </tbody>\n",
       "</table>\n",
       "</div>"
      ],
      "text/plain": [
       "   Gender  Married  Dependents  Education  Self_Employed  ApplicantIncome  \\\n",
       "0       1        0           0          0              0             5849   \n",
       "1       1        1           1          0              0             4583   \n",
       "\n",
       "   CoapplicantIncome  LoanAmount  Loan_Amount_Term  Credit_History  \\\n",
       "0                0.0  146.412162             360.0             1.0   \n",
       "1             1508.0  128.000000             360.0             1.0   \n",
       "\n",
       "   Property_Area  Loan_Status  \n",
       "0              2            1  \n",
       "1              0            0  "
      ]
     },
     "execution_count": 8,
     "metadata": {},
     "output_type": "execute_result"
    }
   ],
   "source": [
    "# Assigning numerical values\n",
    "from sklearn.preprocessing import LabelEncoder\n",
    "labelencoder = LabelEncoder()\n",
    "loan['Gender'] = labelencoder.fit_transform(loan['Gender'])\n",
    "loan['Married'] = labelencoder.fit_transform(loan['Married'])\n",
    "loan['Dependents'] = labelencoder.fit_transform(loan['Dependents'])\n",
    "loan['Education'] = labelencoder.fit_transform(loan['Education'])\n",
    "loan['Self_Employed'] = labelencoder.fit_transform(loan['Self_Employed'])\n",
    "loan['Property_Area'] = labelencoder.fit_transform(loan['Property_Area'])\n",
    "loan['Loan_Status'] = labelencoder.fit_transform(loan['Loan_Status'])\n",
    "\n",
    "loan.head(2)"
   ]
  },
  {
   "cell_type": "markdown",
   "id": "1edb5614",
   "metadata": {
    "id": "1edb5614"
   },
   "source": [
    "# Logistic Regression with outliers and skewness"
   ]
  },
  {
   "cell_type": "code",
   "execution_count": 9,
   "id": "9f72cd40",
   "metadata": {
    "id": "9f72cd40",
    "outputId": "c5bdf480-5651-4c47-f975-0fdb9f8f2694"
   },
   "outputs": [
    {
     "data": {
      "text/plain": [
       "((429, 11), (185, 11))"
      ]
     },
     "execution_count": 9,
     "metadata": {},
     "output_type": "execute_result"
    }
   ],
   "source": [
    "from sklearn .model_selection import train_test_split\n",
    "X=loan[['Gender','Married','Dependents','Education','Self_Employed','ApplicantIncome','CoapplicantIncome','LoanAmount','Loan_Amount_Term','Credit_History','Property_Area']] \n",
    "y=loan[['Loan_Status']]\n",
    "\n",
    "X_train,X_test,y_train,y_test=train_test_split(X,y,test_size=0.3,random_state=0)\n",
    "\n",
    "# check the shape of X_train and X_test\n",
    "X_train.shape, X_test.shape"
   ]
  },
  {
   "cell_type": "code",
   "execution_count": null,
   "id": "1a721289",
   "metadata": {
    "id": "1a721289",
    "outputId": "c4874f44-84e7-4278-9eb2-a3b9a7d88eee"
   },
   "outputs": [],
   "source": [
    "import statsmodels.api as sm\n",
    "from statsmodels.formula.api import logit, glm, ols\n",
    "logit_model = sm.Logit(y_train, X_train).fit()\n",
    "print(logit_model.summary2())"
   ]
  },
  {
   "cell_type": "code",
   "execution_count": null,
   "id": "0462b526",
   "metadata": {
    "id": "0462b526",
    "outputId": "82eac655-867e-4fe5-bbeb-7e8e2f95c20f"
   },
   "outputs": [],
   "source": [
    "logit_model.pvalues < 0.05\n",
    "#'Education','CoapplicantIncome','Loan_Amount_Term','Credit_History'"
   ]
  },
  {
   "cell_type": "code",
   "execution_count": null,
   "id": "dcbedc0c",
   "metadata": {
    "id": "dcbedc0c",
    "outputId": "bf59fb8c-0db3-4ffb-a7a9-a3749afe5c75"
   },
   "outputs": [],
   "source": [
    "y_pred_regression = logit_model.predict(X_test)\n",
    "y_pred_regression"
   ]
  },
  {
   "cell_type": "code",
   "execution_count": null,
   "id": "c129ec10",
   "metadata": {
    "id": "c129ec10",
    "outputId": "fe5144b6-93d3-4042-c703-c7ae2b3082d5"
   },
   "outputs": [],
   "source": [
    "#Evaluating model\n",
    "from sklearn.metrics import confusion_matrix\n",
    "\n",
    "Loan_Status = []\n",
    "for index, value in y_pred_regression.items():\n",
    "    if value < 0.5:\n",
    "        Loan_Status.append(0)\n",
    "    else:\n",
    "        Loan_Status.append(1)\n",
    "        \n",
    "#Calculating the confusion matrix and accuracy of the model\n",
    "from sklearn.metrics import confusion_matrix\n",
    "confusion_matrix = confusion_matrix(Loan_Status,y_test)\n",
    "print(\"Confusion Matrix: \\n\", confusion_matrix, \"\\n\")\n",
    "\n",
    "from sklearn.metrics import accuracy_score\n",
    "print(\"Accuracy:\" ,accuracy_score(y_test, Loan_Status), \"\\n\")\n",
    "\n",
    "from sklearn.metrics import classification_report\n",
    "print(\"Classification Report: \\n\", classification_report(y_test, Loan_Status))"
   ]
  },
  {
   "cell_type": "markdown",
   "id": "1a817943",
   "metadata": {},
   "source": [
    "### Recursive Feature Selection (RFE)"
   ]
  },
  {
   "cell_type": "code",
   "execution_count": null,
   "id": "fbe55d37",
   "metadata": {},
   "outputs": [],
   "source": [
    "from sklearn.feature_selection import RFE\n",
    "from sklearn.linear_model import LogisticRegression"
   ]
  },
  {
   "cell_type": "code",
   "execution_count": null,
   "id": "c8e3e5eb",
   "metadata": {},
   "outputs": [],
   "source": [
    "logreg = LogisticRegression()\n",
    "rfe = RFE(logreg, n_features_to_select=8)"
   ]
  },
  {
   "cell_type": "code",
   "execution_count": null,
   "id": "7ad188b1",
   "metadata": {},
   "outputs": [],
   "source": [
    "rfe.fit(X_train, y_train.values.ravel())\n",
    "\n",
    "print(rfe.support_)\n",
    "print(rfe.ranking_)"
   ]
  },
  {
   "cell_type": "code",
   "execution_count": null,
   "id": "156a7729",
   "metadata": {},
   "outputs": [],
   "source": [
    "insignificant_pred = [i for i in range(len(rfe.ranking_)) if rfe.ranking_[i] > 1]\n",
    "\n",
    "for ranking in insignificant_pred:\n",
    "    insignificant_var = X_train.columns[ranking]\n",
    "    print(insignificant_var)"
   ]
  },
  {
   "cell_type": "code",
   "execution_count": null,
   "id": "bc3eebbd",
   "metadata": {},
   "outputs": [],
   "source": [
    "ranking = [i for i in range(len(rfe.ranking_)) if rfe.ranking_[i] < 2]"
   ]
  },
  {
   "cell_type": "code",
   "execution_count": null,
   "id": "c5513dce",
   "metadata": {},
   "outputs": [],
   "source": [
    "ranking"
   ]
  },
  {
   "cell_type": "code",
   "execution_count": null,
   "id": "7919af71",
   "metadata": {},
   "outputs": [],
   "source": [
    "X_train_final = pd.DataFrame()\n",
    "for index in ranking:\n",
    "    col_name=X_train.columns[index]\n",
    "    X_train_final[col_name]=X_train.iloc[:, index]"
   ]
  },
  {
   "cell_type": "code",
   "execution_count": null,
   "id": "49bb85ed",
   "metadata": {},
   "outputs": [],
   "source": [
    "X_train_final.shape, y_train.shape"
   ]
  },
  {
   "cell_type": "code",
   "execution_count": null,
   "id": "05852f6d",
   "metadata": {},
   "outputs": [],
   "source": [
    "X_test_final = X_test.copy()\n",
    "X_test_final.drop(['ApplicantIncome', 'CoapplicantIncome', 'LoanAmount'], axis=1, inplace=True)"
   ]
  },
  {
   "cell_type": "code",
   "execution_count": null,
   "id": "528a42a5",
   "metadata": {},
   "outputs": [],
   "source": [
    "logreg = LogisticRegression()\n",
    "#logreg.fit(os_data_X_final, os_data_y.values.ravel())\n",
    "logreg.fit(X_train_final, y_train)"
   ]
  },
  {
   "cell_type": "code",
   "execution_count": null,
   "id": "2016dc95",
   "metadata": {},
   "outputs": [],
   "source": [
    "y_pred = logreg.predict(X_test_final)\n",
    "print('Accuracy of logistic regression classifier on test set: {:.2f}'.format(logreg.score(X_test_final, y_test)))\n",
    "from sklearn.metrics import classification_report\n",
    "\n",
    "print(classification_report(y_test, y_pred))"
   ]
  },
  {
   "cell_type": "code",
   "execution_count": null,
   "id": "c4e5a845",
   "metadata": {},
   "outputs": [],
   "source": [
    "import statsmodels.api as sm\n",
    "from statsmodels.formula.api import logit, glm, ols\n",
    "logit_model = sm.Logit(y_train, X_train_final).fit()"
   ]
  },
  {
   "cell_type": "code",
   "execution_count": null,
   "id": "526513c5",
   "metadata": {},
   "outputs": [],
   "source": [
    "y_pred_regression = logit_model.predict(X_test_final)\n",
    "y_pred_regression"
   ]
  },
  {
   "cell_type": "code",
   "execution_count": null,
   "id": "1715b403",
   "metadata": {},
   "outputs": [],
   "source": [
    "#Evaluating model\n",
    "from sklearn.metrics import confusion_matrix\n",
    "\n",
    "Loan_Status = []\n",
    "for index, value in y_pred_regression.items():\n",
    "    if value < 0.5:\n",
    "        Loan_Status.append(0)\n",
    "    else:\n",
    "        Loan_Status.append(1)\n",
    "\n",
    "\n",
    "#Calculating the confusion matrix and accuracy of the model\n",
    "from sklearn.metrics import confusion_matrix\n",
    "confusion_matrix = confusion_matrix(Loan_Status,y_test)\n",
    "print(\"Confusion Matrix: \\n\", confusion_matrix, \"\\n\")\n",
    "\n",
    "from sklearn.metrics import accuracy_score\n",
    "print(\"Accuracy:\" ,accuracy_score(y_test, Loan_Status), \"\\n\")\n",
    "\n",
    "from sklearn.metrics import classification_report\n",
    "print(\"Classification Report: \\n\", classification_report(y_test, Loan_Status))"
   ]
  },
  {
   "cell_type": "markdown",
   "id": "a290719e",
   "metadata": {},
   "source": [
    "### Logistic Regression with outliers + K-fold cross validation"
   ]
  },
  {
   "cell_type": "code",
   "execution_count": 10,
   "id": "a11a385c",
   "metadata": {},
   "outputs": [],
   "source": [
    "from sklearn.model_selection import StratifiedKFold"
   ]
  },
  {
   "cell_type": "code",
   "execution_count": 11,
   "id": "3f467e30",
   "metadata": {},
   "outputs": [
    {
     "ename": "NameError",
     "evalue": "name 'X_train_final' is not defined",
     "output_type": "error",
     "traceback": [
      "\u001b[1;31m---------------------------------------------------------------------------\u001b[0m",
      "\u001b[1;31mNameError\u001b[0m                                 Traceback (most recent call last)",
      "\u001b[1;32m~\\AppData\\Local\\Temp/ipykernel_13204/1384053815.py\u001b[0m in \u001b[0;36m<module>\u001b[1;34m\u001b[0m\n\u001b[1;32m----> 1\u001b[1;33m \u001b[0mX_train_final\u001b[0m \u001b[1;33m=\u001b[0m \u001b[0mX_train_final\u001b[0m\u001b[1;33m.\u001b[0m\u001b[0mreset_index\u001b[0m\u001b[1;33m(\u001b[0m\u001b[0mdrop\u001b[0m\u001b[1;33m=\u001b[0m\u001b[1;32mTrue\u001b[0m\u001b[1;33m)\u001b[0m\u001b[1;33m\u001b[0m\u001b[1;33m\u001b[0m\u001b[0m\n\u001b[0m\u001b[0;32m      2\u001b[0m \u001b[0my_train\u001b[0m \u001b[1;33m=\u001b[0m \u001b[0my_train\u001b[0m\u001b[1;33m.\u001b[0m\u001b[0mreset_index\u001b[0m\u001b[1;33m(\u001b[0m\u001b[0mdrop\u001b[0m\u001b[1;33m=\u001b[0m\u001b[1;32mTrue\u001b[0m\u001b[1;33m)\u001b[0m\u001b[1;33m\u001b[0m\u001b[1;33m\u001b[0m\u001b[0m\n\u001b[0;32m      3\u001b[0m \u001b[0mX_test_final\u001b[0m \u001b[1;33m=\u001b[0m \u001b[0mX_test_final\u001b[0m\u001b[1;33m.\u001b[0m\u001b[0mreset_index\u001b[0m\u001b[1;33m(\u001b[0m\u001b[0mdrop\u001b[0m\u001b[1;33m=\u001b[0m\u001b[1;32mTrue\u001b[0m\u001b[1;33m)\u001b[0m\u001b[1;33m\u001b[0m\u001b[1;33m\u001b[0m\u001b[0m\n\u001b[0;32m      4\u001b[0m \u001b[0my_test\u001b[0m \u001b[1;33m=\u001b[0m \u001b[0my_test\u001b[0m\u001b[1;33m.\u001b[0m\u001b[0mreset_index\u001b[0m\u001b[1;33m(\u001b[0m\u001b[0mdrop\u001b[0m\u001b[1;33m=\u001b[0m\u001b[1;32mTrue\u001b[0m\u001b[1;33m)\u001b[0m\u001b[1;33m\u001b[0m\u001b[1;33m\u001b[0m\u001b[0m\n",
      "\u001b[1;31mNameError\u001b[0m: name 'X_train_final' is not defined"
     ]
    }
   ],
   "source": [
    "X_train_final = X_train_final.reset_index(drop=True)\n",
    "y_train = y_train.reset_index(drop=True)\n",
    "X_test_final = X_test_final.reset_index(drop=True)\n",
    "y_test = y_test.reset_index(drop=True)"
   ]
  },
  {
   "cell_type": "code",
   "execution_count": null,
   "id": "9399e58d",
   "metadata": {},
   "outputs": [],
   "source": [
    "X_train_final.shape"
   ]
  },
  {
   "cell_type": "code",
   "execution_count": 13,
   "id": "9093d60c",
   "metadata": {},
   "outputs": [
    {
     "name": "stdout",
     "output_type": "stream",
     "text": [
      "\n",
      "1 of kfold 5 \n",
      "accuracy_score 0.8488372093023255\n",
      "\n",
      "2 of kfold 5 \n",
      "accuracy_score 0.8023255813953488\n",
      "\n",
      "3 of kfold 5 \n",
      "accuracy_score 0.7209302325581395\n",
      "\n",
      "4 of kfold 5 \n",
      "accuracy_score 0.7790697674418605\n",
      "\n",
      "5 of kfold 5 \n",
      "accuracy_score 0.8235294117647058\n",
      "\n",
      " Mean Validation Accuracy 0.7949384404924761\n"
     ]
    }
   ],
   "source": [
    "i=1\n",
    "mean = 0\n",
    "kf = StratifiedKFold(n_splits=5,random_state=1,shuffle=True)\n",
    "for train_index,test_index in kf.split(X_train_final,y_train):\n",
    "    print ('\\n{} of kfold {} '.format(i,kf.n_splits))\n",
    "    xtr,xvl = X_train_final.loc[train_index],X_train_final.loc[test_index]\n",
    "    ytr,yvl = y_train.loc[train_index],y_train.loc[test_index]\n",
    "    model = LogisticRegression(random_state=1)\n",
    "    model.fit(xtr,ytr)\n",
    "    pred_test=model.predict(xvl)\n",
    "    score=accuracy_score(yvl,pred_test)\n",
    "    mean += score\n",
    "    print ('accuracy_score',score)\n",
    "    i+=1\n",
    "    pred_test = model.predict(X_test_final)\n",
    "    pred = model.predict_proba(xvl)[:,1]\n",
    "print ('\\n Mean Validation Accuracy',mean/(i-1))"
   ]
  },
  {
   "cell_type": "code",
   "execution_count": 14,
   "id": "acc9584f",
   "metadata": {},
   "outputs": [
    {
     "data": {
      "image/png": "[encoded data removed]",
      "text/plain": [
       "<Figure size 720x504 with 1 Axes>"
      ]
     },
     "metadata": {
      "needs_background": "light"
     },
     "output_type": "display_data"
    }
   ],
   "source": [
    "from sklearn import metrics\n",
    "fpr, tpr, _ = metrics.roc_curve(yvl, pred)\n",
    "auc = metrics.roc_auc_score(yvl, pred)\n",
    "plt.figure(figsize=(10,7))\n",
    "plt.plot(fpr, tpr, label='validation, auc='+str(auc))\n",
    "plt.xlabel('False Positive Rate')\n",
    "plt.ylabel('True Positive Rate')\n",
    "plt.legend(loc=4)\n",
    "plt.show()"
   ]
  },
  {
   "cell_type": "code",
   "execution_count": null,
   "id": "63db3617",
   "metadata": {},
   "outputs": [],
   "source": []
  },
  {
   "cell_type": "markdown",
   "id": "85c94e6b",
   "metadata": {
    "id": "85c94e6b"
   },
   "source": [
    "# Logistic Regression-Removing insignificant variables (Remaining vars - Education, CoapplicantIncome,Loan_Amount_Term, Credit_History)"
   ]
  },
  {
   "cell_type": "code",
   "execution_count": null,
   "id": "e67299bf",
   "metadata": {
    "id": "e67299bf",
    "outputId": "89450a8f-529a-4810-9cb1-5c48ee244059"
   },
   "outputs": [],
   "source": [
    "from sklearn .model_selection import train_test_split\n",
    "X=loan[['Education','CoapplicantIncome','Loan_Amount_Term','Credit_History']] \n",
    "y=loan[['Loan_Status']]\n",
    "\n",
    "X_train,X_test,y_train,y_test=train_test_split(X,y,test_size=0.3,random_state=0)\n",
    "\n",
    "# check the shape of X_train and X_test\n",
    "X_train.shape, X_test.shape"
   ]
  },
  {
   "cell_type": "code",
   "execution_count": null,
   "id": "94fd6758",
   "metadata": {
    "id": "94fd6758",
    "outputId": "f9a92f5e-d302-4979-a8ae-dc0f820ffb9a"
   },
   "outputs": [],
   "source": [
    "import statsmodels.api as sm\n",
    "from statsmodels.formula.api import logit, glm, ols\n",
    "logit_model_SigVar = sm.Logit(y_train, X_train).fit()\n",
    "print(logit_model_SigVar.summary2())"
   ]
  },
  {
   "cell_type": "code",
   "execution_count": null,
   "id": "d791647d",
   "metadata": {
    "id": "d791647d",
    "outputId": "d325785f-3d8e-4d08-a90d-6b461789c4e2"
   },
   "outputs": [],
   "source": [
    "logit_model_SigVar.pvalues < 0.05"
   ]
  },
  {
   "cell_type": "code",
   "execution_count": null,
   "id": "9464dc37",
   "metadata": {
    "id": "9464dc37",
    "outputId": "d1006c47-805a-41c3-8bc9-1fc33d8cd061"
   },
   "outputs": [],
   "source": [
    "y_pred_SigVar = logit_model_SigVar.predict(X_test)\n",
    "y_pred_SigVar"
   ]
  },
  {
   "cell_type": "code",
   "execution_count": null,
   "id": "8f9ba6ac",
   "metadata": {
    "id": "8f9ba6ac",
    "outputId": "ae82d103-cc28-4ab0-c321-87d2fe621242"
   },
   "outputs": [],
   "source": [
    "#Evaluating model\n",
    "from sklearn.metrics import confusion_matrix\n",
    "\n",
    "Loan_Status = []\n",
    "for index, value in y_pred_SigVar.items():\n",
    "    if value < 0.5:\n",
    "        Loan_Status.append(0)\n",
    "    else:\n",
    "        Loan_Status.append(1)\n",
    "        \n",
    "#Calculating the confusion matrix and accuracy of the model\n",
    "from sklearn.metrics import confusion_matrix\n",
    "confusion_matrix = confusion_matrix(Loan_Status,y_test)\n",
    "print(\"Confusion Matrix: \\n\", confusion_matrix, \"\\n\")\n",
    "\n",
    "from sklearn.metrics import accuracy_score\n",
    "print(\"Accuracy:\" ,accuracy_score(y_test, Loan_Status), \"\\n\")\n",
    "\n",
    "from sklearn.metrics import classification_report\n",
    "print(\"Classification Report: \\n\", classification_report(y_test, Loan_Status))"
   ]
  },
  {
   "cell_type": "markdown",
   "id": "eb67084a",
   "metadata": {
    "id": "eb67084a"
   },
   "source": [
    "**--> The accuracy did not improve after remmoving the insignificant variables.**"
   ]
  },
  {
   "cell_type": "markdown",
   "id": "045771ac",
   "metadata": {
    "id": "045771ac"
   },
   "source": [
    "# Logistic Regression without outliers\n",
    "\n",
    "Since there is noise the data and the data is skewed to the right, we perform below two corrective actions:\n",
    "1. Remove outlier customers with extreme income (above $30000 i.e. 7 customers) - This resulted in better distribution of data\n",
    "2. Performing normalization using logarithmic function on columns - ApplicantIncome, CoapplicantIncome, LoanAmount. Since we have large number of zeroes in CoApplicantIncome column, we decided to combine ApplicationIncome and CoapplicationIncome as TotalApplicantIncome"
   ]
  },
  {
   "cell_type": "markdown",
   "id": "af4ccd31",
   "metadata": {
    "id": "af4ccd31"
   },
   "source": [
    "## Method1: Remove outlier customers with extreme income (above $30000 i.e. 7 customers) - This resulted in better distribution of data"
   ]
  },
  {
   "cell_type": "code",
   "execution_count": null,
   "id": "058a1184",
   "metadata": {
    "id": "058a1184",
    "outputId": "707c4d4c-7496-45dc-9dc4-66157b65354b"
   },
   "outputs": [],
   "source": [
    "#Remove outlier customers with outlying ApplicantIncome (above $30000 i.e. 7 customers)\n",
    "print(loan['ApplicantIncome'][loan['ApplicantIncome']>30000].count())\n",
    "#plt.hist(loan['ApplicantIncome'][loan['ApplicantIncome']<30000], bins=10)\n",
    "\n",
    "#Remove outlier customers with outlying CoaaplicantIncome (above $15000 i.e. 4 customers)\n",
    "print(loan['CoapplicantIncome'][loan['CoapplicantIncome']>15000].count())\n",
    "#plt.hist(loan['CoapplicantIncome'][loan['CoapplicantIncome']<15000], bins=10)\n",
    "\n",
    "#Remove outlier customers with outlying loan amount (above $500 i.e. 5 customers)\n",
    "print(loan['LoanAmount'][loan['LoanAmount']>500].count())\n",
    "#plt.hist(loan['LoanAmount'][loan['LoanAmount']<500], bins=10)"
   ]
  },
  {
   "cell_type": "code",
   "execution_count": null,
   "id": "136afe3c",
   "metadata": {
    "id": "136afe3c",
    "outputId": "818d9046-9a38-4732-ae01-cd9aee9e5c93"
   },
   "outputs": [],
   "source": [
    "print(loan['ApplicantIncome'][loan['ApplicantIncome']>30000].index)\n",
    "print(loan['CoapplicantIncome'][loan['CoapplicantIncome']>15000].index)\n",
    "print(loan['LoanAmount'][loan['LoanAmount']>500].index)"
   ]
  },
  {
   "cell_type": "code",
   "execution_count": null,
   "id": "4a615ca5",
   "metadata": {
    "id": "4a615ca5"
   },
   "outputs": [],
   "source": [
    "#Create dataset without outliers - drop rows \n",
    "loan_noOutliers = loan.copy()\n",
    "loan_noOutliers.drop(loan_noOutliers['ApplicantIncome'][loan_noOutliers['ApplicantIncome']>30000].index, inplace=True)\n",
    "loan_noOutliers.drop(loan_noOutliers['CoapplicantIncome'][loan_noOutliers['CoapplicantIncome']>15000].index, inplace=True)\n",
    "loan_noOutliers.drop(loan_noOutliers['LoanAmount'][loan_noOutliers['LoanAmount']>500].index, inplace=True)"
   ]
  },
  {
   "cell_type": "code",
   "execution_count": null,
   "id": "432d455e",
   "metadata": {
    "id": "432d455e",
    "outputId": "9c4648b0-cc37-4e84-fd85-60793178a965"
   },
   "outputs": [],
   "source": [
    "loan_noOutliers.shape"
   ]
  },
  {
   "cell_type": "code",
   "execution_count": null,
   "id": "d9c8eeed",
   "metadata": {
    "id": "d9c8eeed"
   },
   "outputs": [],
   "source": [
    "## Logistic Regression without outliers and skewness-droppinng outliers (method1)"
   ]
  },
  {
   "cell_type": "code",
   "execution_count": null,
   "id": "d5003259",
   "metadata": {
    "id": "d5003259",
    "outputId": "4730c5eb-73d7-4547-fd20-07dd3b5e5a11"
   },
   "outputs": [],
   "source": [
    "#Logistic Regression- Without outliers- method2: using log function\n",
    "from sklearn .model_selection import train_test_split\n",
    "X=loan_noOutliers[['Gender','Married','Dependents','Education','Self_Employed','ApplicantIncome', 'CoapplicantIncome', 'LoanAmount','Loan_Amount_Term','Credit_History','Property_Area']] \n",
    "y=loan_noOutliers[['Loan_Status']]\n",
    "\n",
    "X_train,X_test,y_train,y_test=train_test_split(X,y,test_size=0.3,random_state=0)\n",
    "\n",
    "# check the shape of X_train and X_test\n",
    "X_train.shape, X_test.shape"
   ]
  },
  {
   "cell_type": "code",
   "execution_count": null,
   "id": "5376f82a",
   "metadata": {
    "id": "5376f82a",
    "outputId": "2f5d5bcc-23e0-4f27-9744-7cf4a546a99e"
   },
   "outputs": [],
   "source": [
    "import statsmodels.api as sm\n",
    "from statsmodels.formula.api import logit, glm, ols\n",
    "logit_model_DropOutliers = sm.Logit(y_train, X_train).fit()\n",
    "print(logit_model_DropOutliers.summary2())"
   ]
  },
  {
   "cell_type": "code",
   "execution_count": null,
   "id": "4c162e73",
   "metadata": {
    "id": "4c162e73",
    "outputId": "1c7cc2bb-38a8-48d0-dcb1-9138ee74dbfe"
   },
   "outputs": [],
   "source": [
    "logit_model_DropOutliers.pvalues < 0.05"
   ]
  },
  {
   "cell_type": "code",
   "execution_count": null,
   "id": "c7876328",
   "metadata": {
    "id": "c7876328",
    "outputId": "48cfc9dd-c052-441b-ac9c-eaa4a67e05e8"
   },
   "outputs": [],
   "source": [
    "y_pred_DropOutliers = logit_model_DropOutliers.predict(X_test)\n",
    "y_pred_DropOutliers"
   ]
  },
  {
   "cell_type": "code",
   "execution_count": null,
   "id": "5a8715f8",
   "metadata": {
    "id": "5a8715f8",
    "outputId": "43b3920e-6b54-4659-9060-a05ef26166b9"
   },
   "outputs": [],
   "source": [
    "#Evaluating model\n",
    "from sklearn.metrics import confusion_matrix\n",
    "\n",
    "Loan_Status = []\n",
    "for index, value in y_pred_DropOutliers.items():\n",
    "    if value < 0.5:\n",
    "        Loan_Status.append(0)\n",
    "    else:\n",
    "        Loan_Status.append(1)\n",
    "        \n",
    "#Calculating the confusion matrix and accuracy of the model\n",
    "from sklearn.metrics import confusion_matrix\n",
    "confusion_matrix = confusion_matrix(Loan_Status,y_test)\n",
    "print(\"Confusion Matrix: \\n\", confusion_matrix, \"\\n\")\n",
    "\n",
    "from sklearn.metrics import accuracy_score\n",
    "print(\"Accuracy:\" ,accuracy_score(y_test, Loan_Status), \"\\n\")\n",
    "\n",
    "from sklearn.metrics import classification_report\n",
    "print(\"Classification Report: \\n\", classification_report(y_test, Loan_Status))"
   ]
  },
  {
   "cell_type": "markdown",
   "id": "079d030d",
   "metadata": {},
   "source": [
    "### Recursive Feature Elimination - without outliers method 1"
   ]
  },
  {
   "cell_type": "code",
   "execution_count": null,
   "id": "70b3e27b",
   "metadata": {},
   "outputs": [],
   "source": [
    "from sklearn.feature_selection import RFE\n",
    "from sklearn.linear_model import LogisticRegression\n",
    "\n",
    "logreg = LogisticRegression()\n",
    "rfe = RFE(logreg, n_features_to_select=8)\n",
    "rfe.fit(X_train, y_train.values.ravel())\n",
    "\n",
    "print(rfe.support_)\n",
    "print(rfe.ranking_)"
   ]
  },
  {
   "cell_type": "code",
   "execution_count": null,
   "id": "8d0eb683",
   "metadata": {},
   "outputs": [],
   "source": [
    "insignificant_pred = [i for i in range(len(rfe.ranking_)) if rfe.ranking_[i] > 1]"
   ]
  },
  {
   "cell_type": "code",
   "execution_count": null,
   "id": "8994b908",
   "metadata": {},
   "outputs": [],
   "source": [
    "for ranking in insignificant_pred:\n",
    "    insignificant_var = X_train.columns[ranking]\n",
    "    print(insignificant_var)"
   ]
  },
  {
   "cell_type": "code",
   "execution_count": null,
   "id": "ad7cbe3a",
   "metadata": {},
   "outputs": [],
   "source": [
    "ranking = [i for i in range(len(rfe.ranking_)) if rfe.ranking_[i] < 2]\n",
    "ranking"
   ]
  },
  {
   "cell_type": "code",
   "execution_count": null,
   "id": "18c248a5",
   "metadata": {},
   "outputs": [],
   "source": [
    "X_train_final = pd.DataFrame()\n",
    "for index in ranking:\n",
    "    col_name=X_train.columns[index]\n",
    "    X_train_final[col_name]=X_train.iloc[:, index]"
   ]
  },
  {
   "cell_type": "code",
   "execution_count": null,
   "id": "244cdafc",
   "metadata": {},
   "outputs": [],
   "source": [
    "X_train_final.shape, y_train.shape\n"
   ]
  },
  {
   "cell_type": "code",
   "execution_count": null,
   "id": "a06faf9f",
   "metadata": {},
   "outputs": [],
   "source": [
    "X_test_final = X_test.copy()\n",
    "X_test_final.drop(['ApplicantIncome', 'CoapplicantIncome', 'LoanAmount'], axis=1, inplace=True)"
   ]
  },
  {
   "cell_type": "code",
   "execution_count": null,
   "id": "22a9c14a",
   "metadata": {},
   "outputs": [],
   "source": [
    "import statsmodels.api as sm\n",
    "from statsmodels.formula.api import logit, glm, ols\n",
    "logit_model = sm.Logit(y_train, X_train_final).fit()"
   ]
  },
  {
   "cell_type": "code",
   "execution_count": null,
   "id": "6e19e0cd",
   "metadata": {},
   "outputs": [],
   "source": [
    "y_pred_regression = logit_model.predict(X_test_final)\n",
    "y_pred_regression"
   ]
  },
  {
   "cell_type": "code",
   "execution_count": null,
   "id": "3789371d",
   "metadata": {},
   "outputs": [],
   "source": [
    "#Evaluating model\n",
    "from sklearn.metrics import confusion_matrix\n",
    "\n",
    "Loan_Status = []\n",
    "for index, value in y_pred_regression.items():\n",
    "    if value < 0.5:\n",
    "        Loan_Status.append(0)\n",
    "    else:\n",
    "        Loan_Status.append(1)\n",
    "\n",
    "\n",
    "#Calculating the confusion matrix and accuracy of the model\n",
    "from sklearn.metrics import confusion_matrix\n",
    "confusion_matrix = confusion_matrix(Loan_Status,y_test)\n",
    "print(\"Confusion Matrix: \\n\", confusion_matrix, \"\\n\")\n",
    "\n",
    "from sklearn.metrics import accuracy_score\n",
    "print(\"Accuracy:\" ,accuracy_score(y_test, Loan_Status), \"\\n\")\n",
    "\n",
    "from sklearn.metrics import classification_report\n",
    "print(\"Classification Report: \\n\", classification_report(y_test, Loan_Status))"
   ]
  },
  {
   "cell_type": "markdown",
   "id": "3e02a870",
   "metadata": {},
   "source": [
    "### K-fold cross validation"
   ]
  },
  {
   "cell_type": "code",
   "execution_count": null,
   "id": "8ee61410",
   "metadata": {},
   "outputs": [],
   "source": [
    "from sklearn.model_selection import StratifiedKFold"
   ]
  },
  {
   "cell_type": "code",
   "execution_count": null,
   "id": "52dbbcf7",
   "metadata": {},
   "outputs": [],
   "source": [
    "X_train_final.shape"
   ]
  },
  {
   "cell_type": "code",
   "execution_count": null,
   "id": "d30514be",
   "metadata": {},
   "outputs": [],
   "source": [
    "X_train_final = X_train_final.reset_index(drop=True)\n",
    "y_train = y_train.reset_index(drop=True)\n",
    "X_test_final = X_test_final.reset_index(drop=True)\n",
    "y_test = y_test.reset_index(drop=True)"
   ]
  },
  {
   "cell_type": "code",
   "execution_count": null,
   "id": "861cf9aa",
   "metadata": {},
   "outputs": [],
   "source": [
    "i=1\n",
    "mean = 0\n",
    "kf = StratifiedKFold(n_splits=5,random_state=1,shuffle=True)\n",
    "for train_index,test_index in kf.split(X_train_final,y_train):\n",
    "    print ('\\n{} of kfold {} '.format(i,kf.n_splits))\n",
    "    xtr,xvl = X_train_final.loc[train_index],X_train_final.loc[test_index]\n",
    "    ytr,yvl = y_train.loc[train_index],y_train.loc[test_index]\n",
    "    model = LogisticRegression(random_state=1)\n",
    "    model.fit(xtr,ytr)\n",
    "    pred_test=model.predict(xvl)\n",
    "    score=accuracy_score(yvl,pred_test)\n",
    "    mean += score\n",
    "    print ('accuracy_score',score)\n",
    "    i+=1\n",
    "    pred_test = model.predict(X_test_final)\n",
    "    pred = model.predict_proba(xvl)[:,1]\n",
    "print ('\\n Mean Validation Accuracy',mean/(i-1))"
   ]
  },
  {
   "cell_type": "code",
   "execution_count": null,
   "id": "e6bfd75e",
   "metadata": {},
   "outputs": [],
   "source": [
    "from sklearn import metrics\n",
    "fpr, tpr, _ = metrics.roc_curve(yvl, pred)\n",
    "auc = metrics.roc_auc_score(yvl, pred)\n",
    "plt.figure(figsize=(10,7))\n",
    "plt.plot(fpr, tpr, label='validation, auc='+str(auc))\n",
    "plt.xlabel('False Positive Rate')\n",
    "plt.ylabel('True Positive Rate')\n",
    "plt.legend(loc=4)\n",
    "plt.show()"
   ]
  },
  {
   "cell_type": "markdown",
   "id": "1ce243ae",
   "metadata": {
    "id": "1ce243ae"
   },
   "source": [
    "## Logistic Regression-Removing insignificant variables "
   ]
  },
  {
   "cell_type": "code",
   "execution_count": null,
   "id": "fbff1b4e",
   "metadata": {
    "id": "fbff1b4e",
    "outputId": "94b470cc-30e8-49ce-80e0-7667ec469a73"
   },
   "outputs": [],
   "source": [
    "from sklearn .model_selection import train_test_split\n",
    "X=loan[['Education','Loan_Amount_Term','Credit_History']] \n",
    "y=loan[['Loan_Status']]\n",
    "\n",
    "X_train,X_test,y_train,y_test=train_test_split(X,y,test_size=0.3,random_state=0)\n",
    "\n",
    "# check the shape of X_train and X_test\n",
    "X_train.shape, X_test.shape"
   ]
  },
  {
   "cell_type": "code",
   "execution_count": null,
   "id": "c8524048",
   "metadata": {
    "id": "c8524048",
    "outputId": "c4cc397b-f8bf-4024-d74c-7a0e3481e24d"
   },
   "outputs": [],
   "source": [
    "import statsmodels.api as sm\n",
    "from statsmodels.formula.api import logit, glm, ols\n",
    "logit_model_DropOutliers = sm.Logit(y_train, X_train).fit()\n",
    "print(logit_model_DropOutliers.summary2())"
   ]
  },
  {
   "cell_type": "code",
   "execution_count": null,
   "id": "85e47913",
   "metadata": {
    "id": "85e47913",
    "outputId": "975d0bc3-f444-4354-ec3d-2abf72004d96"
   },
   "outputs": [],
   "source": [
    "logit_model_DropOutliers.pvalues < 0.05"
   ]
  },
  {
   "cell_type": "code",
   "execution_count": null,
   "id": "5f186b26",
   "metadata": {
    "id": "5f186b26",
    "outputId": "9d74d24b-4265-4b42-dcb9-d0e0d9162461"
   },
   "outputs": [],
   "source": [
    "y_pred_DropOutliers = logit_model_DropOutliers.predict(X_test)\n",
    "y_pred_DropOutliers"
   ]
  },
  {
   "cell_type": "code",
   "execution_count": null,
   "id": "5ec14748",
   "metadata": {
    "id": "5ec14748",
    "outputId": "b870b227-45a4-403a-d8d4-539dc740902a"
   },
   "outputs": [],
   "source": [
    "#Evaluating model\n",
    "from sklearn.metrics import confusion_matrix\n",
    "\n",
    "Loan_Status = []\n",
    "for index, value in y_pred_DropOutliers.items():\n",
    "    if value < 0.5:\n",
    "        Loan_Status.append(0)\n",
    "    else:\n",
    "        Loan_Status.append(1)\n",
    "        \n",
    "#Calculating the confusion matrix and accuracy of the model\n",
    "from sklearn.metrics import confusion_matrix\n",
    "confusion_matrix = confusion_matrix(Loan_Status,y_test)\n",
    "print(\"Confusion Matrix: \\n\", confusion_matrix, \"\\n\")\n",
    "\n",
    "from sklearn.metrics import accuracy_score\n",
    "print(\"Accuracy:\" ,accuracy_score(y_test, Loan_Status), \"\\n\")\n",
    "\n",
    "from sklearn.metrics import classification_report\n",
    "print(\"Classification Report: \\n\", classification_report(y_test, Loan_Status))"
   ]
  },
  {
   "cell_type": "markdown",
   "id": "7161102d",
   "metadata": {
    "id": "7161102d"
   },
   "source": [
    "# Performing normalization using logarithmic function on columns - ApplicantIncome, CoapplicantIncome, LoanAmount. Since we have large number of zeroes in CoApplicantIncome column, we decided to combine ApplicationIncome and CoapplicationIncome as TotalApplicantIncome"
   ]
  },
  {
   "cell_type": "code",
   "execution_count": null,
   "id": "39f9ddd3",
   "metadata": {
    "id": "39f9ddd3"
   },
   "outputs": [],
   "source": [
    "#Performing normalization using logarithmic function on columns - ApplicantIncome, CoapplicantIncome, LoanAmount. Since we have large number of zeroes in CoApplicantIncome column, we decided to combine ApplicationIncome and CoapplicationIncome as TotalApplicantIncome\n",
    "\n",
    "loan['TotalApplicantIncome']=loan['ApplicantIncome']+loan['CoapplicantIncome']\n",
    "loan['TotalApplicantIncome']\n",
    "\n",
    "# applying log function on TotalApplicantIncome & LoanAmount_log\n",
    "loan['TotalApplicantIncome_log']=np.log(loan['TotalApplicantIncome'])    \n",
    "loan['LoanAmount_log']=np.log(loan['LoanAmount'])"
   ]
  },
  {
   "cell_type": "code",
   "execution_count": null,
   "id": "690deb5a",
   "metadata": {
    "id": "690deb5a",
    "outputId": "2b28e5a5-d41f-4ff6-fbe5-82a1be84a704"
   },
   "outputs": [],
   "source": [
    "loan.head()"
   ]
  },
  {
   "cell_type": "code",
   "execution_count": null,
   "id": "44be366f",
   "metadata": {
    "id": "44be366f",
    "outputId": "a7caa62a-e717-4625-f1da-255e5038c26f"
   },
   "outputs": [],
   "source": [
    "loan['TotalApplicantIncome_log'].hist(bins=10) "
   ]
  },
  {
   "cell_type": "code",
   "execution_count": null,
   "id": "20f002cb",
   "metadata": {
    "id": "20f002cb",
    "outputId": "4400e907-2ac5-42c3-fa5d-c4090be3d262"
   },
   "outputs": [],
   "source": [
    "loan['LoanAmount_log'].hist(bins=10)"
   ]
  },
  {
   "cell_type": "markdown",
   "id": "11908844",
   "metadata": {
    "id": "11908844"
   },
   "source": [
    "## Logistic Regression without outliers and skewness-log function normalization (method 2)"
   ]
  },
  {
   "cell_type": "code",
   "execution_count": null,
   "id": "2031f67b",
   "metadata": {
    "id": "2031f67b",
    "outputId": "898f6ed3-9b6b-4275-b0d2-2ad682e2f108"
   },
   "outputs": [],
   "source": [
    "loan.columns"
   ]
  },
  {
   "cell_type": "code",
   "execution_count": null,
   "id": "a14fa8d6",
   "metadata": {
    "id": "a14fa8d6",
    "outputId": "bd993714-349d-41fa-dc69-0974266caf62"
   },
   "outputs": [],
   "source": [
    "from sklearn .model_selection import train_test_split\n",
    "#Logistic Regression- Without outliers- method2: using log function\n",
    "X=loan[['Gender','Married','Dependents','Education','Self_Employed','Loan_Amount_Term','TotalApplicantIncome_log', 'LoanAmount_log','Credit_History','Property_Area']] \n",
    "y=loan[['Loan_Status']]\n",
    "\n",
    "X_train,X_test,y_train,y_test=train_test_split(X,y,test_size=0.3,random_state=0)\n",
    "\n",
    "# check the shape of X_train and X_test\n",
    "X_train.shape, X_test.shape"
   ]
  },
  {
   "cell_type": "code",
   "execution_count": null,
   "id": "2d31955c",
   "metadata": {
    "id": "2d31955c",
    "outputId": "1c766376-5513-4e8b-fb08-9ada8ff5fc97"
   },
   "outputs": [],
   "source": [
    "import statsmodels.api as sm\n",
    "from statsmodels.formula.api import logit, glm, ols\n",
    "logit_model_nOutliers_Log = sm.Logit(y_train, X_train).fit()\n",
    "print(logit_model_nOutliers_Log.summary2())"
   ]
  },
  {
   "cell_type": "code",
   "execution_count": null,
   "id": "9b6bd858",
   "metadata": {
    "id": "9b6bd858",
    "outputId": "98c70fe4-903c-4b91-f93e-044b0b22ffce"
   },
   "outputs": [],
   "source": [
    "logit_model_nOutliers_Log.pvalues < 0.05"
   ]
  },
  {
   "cell_type": "code",
   "execution_count": null,
   "id": "0bc6d636",
   "metadata": {
    "id": "0bc6d636",
    "outputId": "994d8e9c-778b-4b91-dc67-e54335a68c4f"
   },
   "outputs": [],
   "source": [
    "y_pred_nOutliers_Log = logit_model_nOutliers_Log.predict(X_test)\n",
    "y_pred_nOutliers_Log"
   ]
  },
  {
   "cell_type": "code",
   "execution_count": null,
   "id": "5cdb47bb",
   "metadata": {
    "id": "5cdb47bb",
    "outputId": "7df91256-9abf-4077-b4dd-de795a63ceed"
   },
   "outputs": [],
   "source": [
    "#Evaluating model\n",
    "from sklearn.metrics import confusion_matrix\n",
    "\n",
    "Loan_Status = []\n",
    "for index, value in y_pred_nOutliers_Log.items():\n",
    "    if value < 0.5:\n",
    "        Loan_Status.append(0)\n",
    "    else:\n",
    "        Loan_Status.append(1)\n",
    "        \n",
    "#Calculating the confusion matrix and accuracy of the model\n",
    "from sklearn.metrics import confusion_matrix\n",
    "confusion_matrix = confusion_matrix(Loan_Status,y_test)\n",
    "print(\"Confusion Matrix: \\n\", confusion_matrix, \"\\n\")\n",
    "\n",
    "from sklearn.metrics import accuracy_score\n",
    "print(\"Accuracy:\" ,accuracy_score(y_test, Loan_Status), \"\\n\")\n",
    "\n",
    "from sklearn.metrics import classification_report\n",
    "print(\"Classification Report: \\n\", classification_report(y_test, Loan_Status))"
   ]
  },
  {
   "cell_type": "markdown",
   "id": "672dd96f",
   "metadata": {},
   "source": [
    "### Recursive Feature Elimination - without outliers method 2"
   ]
  },
  {
   "cell_type": "code",
   "execution_count": null,
   "id": "278bb7a3",
   "metadata": {},
   "outputs": [],
   "source": [
    "from sklearn.feature_selection import RFE\n",
    "from sklearn.linear_model import LogisticRegression\n",
    "\n",
    "logreg = LogisticRegression()\n",
    "rfe = RFE(logreg, n_features_to_select=8)\n",
    "rfe.fit(X_train, y_train.values.ravel())\n",
    "\n",
    "print(rfe.support_)\n",
    "print(rfe.ranking_)"
   ]
  },
  {
   "cell_type": "code",
   "execution_count": null,
   "id": "08da9a5e",
   "metadata": {},
   "outputs": [],
   "source": [
    "insignificant_pred = [i for i in range(len(rfe.ranking_)) if rfe.ranking_[i] > 1]"
   ]
  },
  {
   "cell_type": "code",
   "execution_count": null,
   "id": "391d88d1",
   "metadata": {},
   "outputs": [],
   "source": [
    "for ranking in insignificant_pred:\n",
    "    insignificant_var = X_train.columns[ranking]\n",
    "    print(insignificant_var)"
   ]
  },
  {
   "cell_type": "code",
   "execution_count": null,
   "id": "2f0863bb",
   "metadata": {},
   "outputs": [],
   "source": [
    "ranking = [i for i in range(len(rfe.ranking_)) if rfe.ranking_[i] < 2]\n",
    "ranking"
   ]
  },
  {
   "cell_type": "code",
   "execution_count": null,
   "id": "7823ec78",
   "metadata": {},
   "outputs": [],
   "source": [
    "X_train_final = pd.DataFrame()\n",
    "for index in ranking:\n",
    "    col_name=X_train.columns[index]\n",
    "    X_train_final[col_name]=X_train.iloc[:, index]"
   ]
  },
  {
   "cell_type": "code",
   "execution_count": null,
   "id": "79cc6dd7",
   "metadata": {},
   "outputs": [],
   "source": [
    "X_train_final.shape, y_train.shape"
   ]
  },
  {
   "cell_type": "code",
   "execution_count": null,
   "id": "1517236b",
   "metadata": {},
   "outputs": [],
   "source": [
    "X_test_final = X_test.copy()\n",
    "X_test_final.drop(['Gender', 'Loan_Amount_Term'], axis=1, inplace=True)"
   ]
  },
  {
   "cell_type": "code",
   "execution_count": null,
   "id": "ac490415",
   "metadata": {},
   "outputs": [],
   "source": [
    "import statsmodels.api as sm\n",
    "from statsmodels.formula.api import logit, glm, ols\n",
    "logit_model = sm.Logit(y_train, X_train_final).fit()"
   ]
  },
  {
   "cell_type": "code",
   "execution_count": null,
   "id": "43ac30ea",
   "metadata": {},
   "outputs": [],
   "source": [
    "y_pred_regression = logit_model.predict(X_test_final)\n",
    "y_pred_regression"
   ]
  },
  {
   "cell_type": "code",
   "execution_count": null,
   "id": "d64fbfdc",
   "metadata": {},
   "outputs": [],
   "source": [
    "#Evaluating model\n",
    "from sklearn.metrics import confusion_matrix\n",
    "\n",
    "Loan_Status = []\n",
    "for index, value in y_pred_regression.items():\n",
    "    if value < 0.5:\n",
    "        Loan_Status.append(0)\n",
    "    else:\n",
    "        Loan_Status.append(1)\n",
    "\n",
    "\n",
    "#Calculating the confusion matrix and accuracy of the model\n",
    "from sklearn.metrics import confusion_matrix\n",
    "confusion_matrix = confusion_matrix(Loan_Status,y_test)\n",
    "print(\"Confusion Matrix: \\n\", confusion_matrix, \"\\n\")\n",
    "\n",
    "from sklearn.metrics import accuracy_score\n",
    "print(\"Accuracy:\" ,accuracy_score(y_test, Loan_Status), \"\\n\")\n",
    "\n",
    "from sklearn.metrics import classification_report\n",
    "print(\"Classification Report: \\n\", classification_report(y_test, Loan_Status))"
   ]
  },
  {
   "cell_type": "markdown",
   "id": "1cf8d0df",
   "metadata": {},
   "source": [
    "### K-fold Cross Validation"
   ]
  },
  {
   "cell_type": "code",
   "execution_count": null,
   "id": "f16ac7e3",
   "metadata": {},
   "outputs": [],
   "source": [
    "from sklearn.model_selection import StratifiedKFold"
   ]
  },
  {
   "cell_type": "code",
   "execution_count": null,
   "id": "42ab989d",
   "metadata": {},
   "outputs": [],
   "source": [
    "X_train_final = X_train_final.reset_index(drop=True)\n",
    "y_train = y_train.reset_index(drop=True)\n",
    "X_test_final = X_test_final.reset_index(drop=True)\n",
    "y_test = y_test.reset_index(drop=True)"
   ]
  },
  {
   "cell_type": "code",
   "execution_count": null,
   "id": "b3c49158",
   "metadata": {},
   "outputs": [],
   "source": [
    "i=1\n",
    "mean = 0\n",
    "kf = StratifiedKFold(n_splits=5,random_state=1,shuffle=True)\n",
    "for train_index,test_index in kf.split(X_train_final,y_train):\n",
    "    print ('\\n{} of kfold {} '.format(i,kf.n_splits))\n",
    "    xtr,xvl = X_train_final.loc[train_index],X_train_final.loc[test_index]\n",
    "    ytr,yvl = y_train.loc[train_index],y_train.loc[test_index]\n",
    "    model = LogisticRegression(random_state=1)\n",
    "    model.fit(xtr,ytr)\n",
    "    pred_test=model.predict(xvl)\n",
    "    score=accuracy_score(yvl,pred_test)\n",
    "    mean += score\n",
    "    print ('accuracy_score',score)\n",
    "    i+=1\n",
    "    pred_test = model.predict(X_test_final)\n",
    "    pred = model.predict_proba(xvl)[:,1]\n",
    "print ('\\n Mean Validation Accuracy',mean/(i-1))"
   ]
  },
  {
   "cell_type": "code",
   "execution_count": null,
   "id": "d8eda74b",
   "metadata": {},
   "outputs": [],
   "source": [
    "from sklearn import metrics\n",
    "fpr, tpr, _ = metrics.roc_curve(yvl, pred)\n",
    "auc = metrics.roc_auc_score(yvl, pred)\n",
    "plt.figure(figsize=(10,7))\n",
    "plt.plot(fpr, tpr, label='validation, auc='+str(auc))\n",
    "plt.xlabel('False Positive Rate')\n",
    "plt.ylabel('True Positive Rate')\n",
    "plt.legend(loc=4)\n",
    "plt.show()"
   ]
  },
  {
   "cell_type": "markdown",
   "id": "c840bdcd",
   "metadata": {
    "id": "c840bdcd"
   },
   "source": [
    "## Logistic Regression-Removing insignificant variables "
   ]
  },
  {
   "cell_type": "code",
   "execution_count": null,
   "id": "50c5659f",
   "metadata": {
    "id": "50c5659f",
    "outputId": "f64ac841-4dcb-4bce-e4a6-d7503d7c67f7"
   },
   "outputs": [],
   "source": [
    "X=loan[['Education','Credit_History']] \n",
    "y=loan[['Loan_Status']]\n",
    "\n",
    "X_train,X_test,y_train,y_test=train_test_split(X,y,test_size=0.3,random_state=0)\n",
    "\n",
    "# check the shape of X_train and X_test\n",
    "X_train.shape, X_test.shape"
   ]
  },
  {
   "cell_type": "code",
   "execution_count": null,
   "id": "7bec9eba",
   "metadata": {
    "id": "7bec9eba",
    "outputId": "71c79a95-5f34-4bfc-aa98-304f0f378122"
   },
   "outputs": [],
   "source": [
    "import statsmodels.api as sm\n",
    "from statsmodels.formula.api import logit, glm, ols\n",
    "logit_model_nOutliers_Log = sm.Logit(y_train, X_train).fit()\n",
    "print(logit_model_nOutliers_Log.summary2())"
   ]
  },
  {
   "cell_type": "code",
   "execution_count": null,
   "id": "ac86b290",
   "metadata": {
    "id": "ac86b290",
    "outputId": "ecf1f569-1f49-46ea-bcfa-7bc50da50639"
   },
   "outputs": [],
   "source": [
    "logit_model_nOutliers_Log.pvalues < 0.05"
   ]
  },
  {
   "cell_type": "code",
   "execution_count": null,
   "id": "825acd59",
   "metadata": {
    "id": "825acd59",
    "outputId": "121ee357-6bfa-405e-e75c-8c0c54b59df7"
   },
   "outputs": [],
   "source": [
    "y_pred_nOutliers_Log = logit_model_nOutliers_Log.predict(X_test)\n",
    "y_pred_nOutliers_Log"
   ]
  },
  {
   "cell_type": "code",
   "execution_count": null,
   "id": "95e29024",
   "metadata": {
    "id": "95e29024",
    "outputId": "982bece0-f359-40dd-f950-7b5d09a5c6ac"
   },
   "outputs": [],
   "source": [
    "#Evaluating model\n",
    "from sklearn.metrics import confusion_matrix\n",
    "\n",
    "Loan_Status = []\n",
    "for index, value in y_pred_nOutliers_Log.items():\n",
    "    if value < 0.5:\n",
    "        Loan_Status.append(0)\n",
    "    else:\n",
    "        Loan_Status.append(1)\n",
    "        \n",
    "#Calculating the confusion matrix and accuracy of the model\n",
    "from sklearn.metrics import confusion_matrix\n",
    "confusion_matrix = confusion_matrix(Loan_Status,y_test)\n",
    "print(\"Confusion Matrix: \\n\", confusion_matrix, \"\\n\")\n",
    "\n",
    "from sklearn.metrics import accuracy_score\n",
    "print(\"Accuracy:\" ,accuracy_score(y_test, Loan_Status), \"\\n\")\n",
    "\n",
    "from sklearn.metrics import classification_report\n",
    "print(\"Classification Report: \\n\", classification_report(y_test, Loan_Status))"
   ]
  },
  {
   "cell_type": "markdown",
   "id": "ec1ece17",
   "metadata": {
    "id": "ec1ece17"
   },
   "source": [
    "## Variable Correlations-Heatmap"
   ]
  },
  {
   "cell_type": "code",
   "execution_count": null,
   "id": "46728f88",
   "metadata": {
    "id": "46728f88",
    "outputId": "2179bd93-20d2-4c45-976b-2c39c7ce012d"
   },
   "outputs": [],
   "source": [
    "plt.figure(figsize=(15, 10))\n",
    "heatmap = sns.heatmap(loan.corr(), vmin=-1, vmax=1, annot=True) "
   ]
  },
  {
   "cell_type": "code",
   "execution_count": null,
   "id": "0a1886da",
   "metadata": {
    "id": "0a1886da",
    "outputId": "1644188e-be50-4d6a-d14d-3b437cabc67c"
   },
   "outputs": [],
   "source": [
    "loan.corr()"
   ]
  },
  {
   "cell_type": "code",
   "execution_count": null,
   "id": "dca15aee",
   "metadata": {},
   "outputs": [],
   "source": [
    "from sklearn.feature_selection import RFE\n",
    "from sklearn.linear_model import LogisticRegression\n",
    "\n",
    "logreg = LogisticRegression()\n",
    "rfe = RFE(logreg, n_features_to_select=8)\n",
    "rfe.fit(X_train, y_train.values.ravel())\n",
    "\n",
    "print(rfe.support_)\n",
    "print(rfe.ranking_)\n",
    "\n",
    "insignificant_pred = [i for i in range(len(rfe.ranking_)) if rfe.ranking_[i] > 1]\n",
    "\n",
    "for ranking in insignificant_pred:\n",
    "    insignificant_var = X_train.columns[ranking]\n",
    "    print(insignificant_var)\n",
    "    \n",
    "ranking = [i for i in range(len(rfe.ranking_)) if rfe.ranking_[i] < 2]\n",
    "ranking\n",
    "\n",
    "X_train_final = pd.DataFrame()\n",
    "for index in ranking:\n",
    "    col_name=X_train.columns[index]\n",
    "    X_train_final[col_name]=X_train.iloc[:, index]\n",
    "\n",
    "    \n",
    "X_train_final.shape, y_train.shape\n",
    "\n",
    "X_test_final = X_test.copy()\n",
    "X_test_final.drop(['ApplicantIncome', 'CoapplicantIncome', 'LoanAmount'], axis=1, inplace=True)"
   ]
  }
 ],
 "metadata": {
  "colab": {
   "name": "ML_Project-LogesticRegression***.ipynb",
   "provenance": []
  },
  "kernelspec": {
   "display_name": "Python 3 (ipykernel)",
   "language": "python",
   "name": "python3"
  },
  "language_info": {
   "codemirror_mode": {
    "name": "ipython",
    "version": 3
   },
   "file_extension": ".py",
   "mimetype": "text/x-python",
   "name": "python",
   "nbconvert_exporter": "python",
   "pygments_lexer": "ipython3",
   "version": "3.8.12"
  }
 },
 "nbformat": 4,
 "nbformat_minor": 5
}
